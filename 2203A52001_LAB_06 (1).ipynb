{
  "nbformat": 4,
  "nbformat_minor": 0,
  "metadata": {
    "colab": {
      "provenance": []
    },
    "kernelspec": {
      "name": "python3",
      "display_name": "Python 3"
    },
    "language_info": {
      "name": "python"
    }
  },
  "cells": [
    {
      "cell_type": "code",
      "execution_count": 18,
      "metadata": {
        "colab": {
          "base_uri": "https://localhost:8080/"
        },
        "id": "MNxj0-sdbjp1",
        "outputId": "1ac90847-5efc-4ef5-cd55-2c0ef202170d"
      },
      "outputs": [
        {
          "output_type": "stream",
          "name": "stdout",
          "text": [
            "*** No CODEPAGE record, no encoding_override: will use 'iso-8859-1'\n",
            "      X    Y\n",
            "0   7.6  157\n",
            "1   7.1  174\n",
            "2   8.2  175\n",
            "3   7.5  188\n",
            "4   7.4  171\n",
            "5   7.8  143\n",
            "6   7.3  217\n",
            "7   8.0  190\n",
            "8   7.1  142\n",
            "9   7.5  190\n",
            "10  8.1  215\n",
            "11  7.0  199\n",
            "12  7.3  262\n",
            "13  7.8  105\n",
            "14  7.3  121\n",
            "15  8.0   81\n",
            "16  8.5   82\n",
            "17  7.1  210\n",
            "18  8.2  202\n",
            "19  7.9  155\n",
            "20  7.6  157\n",
            "21  8.8  147\n",
            "22  7.2  133\n",
            "23  7.9   53\n",
            "24  8.1   56\n",
            "25  7.7  113\n",
            "26  8.4   35\n",
            "27  7.4  125\n",
            "28  7.3   76\n",
            "29  8.5   48\n",
            "30  7.8  147\n",
            "31  6.7  117\n",
            "32  7.1  182\n",
            "33  7.3   87\n"
          ]
        }
      ],
      "source": [
        "import numpy as np\n",
        "import pandas as pd\n",
        "import random\n",
        "from sklearn.model_selection import train_test_split\n",
        "from sklearn.metrics import mean_squared_error, mean_acsolute_error\n",
        "\n",
        "data = pd.read_excel('/content/slr09.xls', engine='xlrd')\n",
        "\n",
        "X = data[['X']].values\n",
        "y = data['Y'].values\n",
        "print(data)"
      ]
    },
    {
      "cell_type": "code",
      "source": [
        "# Data normalization\n",
        "X_mean = np.mean(X)\n",
        "X_std = np.std(X)\n",
        "X_normalized = (X - X_mean) / X_std\n",
        "\n",
        "y_mean = np.mean(y)\n",
        "y_std = np.std(y)\n",
        "y_normalized = (y - y_mean) / y_std\n",
        "\n",
        "print(y_normalized)\n",
        "print(X_normalized)"
      ],
      "metadata": {
        "colab": {
          "base_uri": "https://localhost:8080/"
        },
        "id": "cJ7KJWHvc2Sp",
        "outputId": "8b2e277e-e052-4667-a100-3547e418634b"
      },
      "execution_count": 37,
      "outputs": [
        {
          "output_type": "stream",
          "name": "stdout",
          "text": [
            "[ 0.25847285  0.56778404  0.58597881  0.8225109   0.51319971  0.00374598\n",
            "  1.3501594   0.85890045 -0.01444879  0.85890045  1.31376985  1.02265344\n",
            "  2.16892432 -0.6876555  -0.39653909 -1.12433013 -1.10613535  1.22279597\n",
            "  1.07723776  0.22208329  0.25847285  0.07652509 -0.17820178 -1.63378385\n",
            " -1.57919952 -0.5420973  -1.96128982 -0.32375998 -1.21530401 -1.72475773\n",
            "  0.07652509 -0.46931819  0.71334225 -1.01516147]\n",
            "[[-0.12500664]\n",
            " [-1.13696519]\n",
            " [ 1.08934361]\n",
            " [-0.32739835]\n",
            " [-0.52979006]\n",
            " [ 0.27977677]\n",
            " [-0.73218177]\n",
            " [ 0.68456019]\n",
            " [-1.13696519]\n",
            " [-0.32739835]\n",
            " [ 0.8869519 ]\n",
            " [-1.3393569 ]\n",
            " [-0.73218177]\n",
            " [ 0.27977677]\n",
            " [-0.73218177]\n",
            " [ 0.68456019]\n",
            " [ 1.69651874]\n",
            " [-1.13696519]\n",
            " [ 1.08934361]\n",
            " [ 0.48216848]\n",
            " [-0.12500664]\n",
            " [ 2.30369386]\n",
            " [-0.93457348]\n",
            " [ 0.48216848]\n",
            " [ 0.8869519 ]\n",
            " [ 0.07738507]\n",
            " [ 1.49412703]\n",
            " [-0.52979006]\n",
            " [-0.73218177]\n",
            " [ 1.69651874]\n",
            " [ 0.27977677]\n",
            " [-1.94653203]\n",
            " [-1.13696519]\n",
            " [-0.73218177]]\n"
          ]
        }
      ]
    },
    {
      "cell_type": "code",
      "source": [
        "# Split data into training and testing sets\n",
        "X_train, X_test, y_train, y_test = train_test_split(X_normalized, y_normalized, test_size=0.1, random_state=42)\n",
        "\n",
        "# Initialize model parameters\n",
        "m = random.uniform(-1,1)\n",
        "c = random.uniform(-1,1)\n",
        "learning_rate = 0.1\n",
        "epochs = 100\n",
        "\n",
        "# Stochastic Gradient Descent (SGD)\n",
        "for epoch in range(epochs):\n",
        "    for i in range(len(X_train)):\n",
        "        y_pred = m * X_train[i] + c\n",
        "        dm = (y_pred - y_train[i]) * X_train[i]\n",
        "        dc = (y_pred - y_train[i])\n",
        "        m = m - learning_rate * dm\n",
        "        c = c - learning_rate * dc\n",
        "\n",
        "# Predictions\n",
        "y_train_pred = m * X_train + c\n",
        "y_test_pred = m * X_test + c\n",
        "\n",
        "# Denormalize the predictions\n",
        "y_train_pred = y_train_pred * y_std + y_mean\n",
        "y_test_pred = y_test_pred * y_std + y_mean"
      ],
      "metadata": {
        "id": "t48XyR06dvuG"
      },
      "execution_count": 34,
      "outputs": []
    },
    {
      "cell_type": "code",
      "source": [
        "# Evaluate the model\n",
        "mse_train = mean_squared_error(y_train * y_std + y_mean, y_train_pred)\n",
        "rmse_train = np.sqrt(mse_train)\n",
        "mae_train = mean_absolute_error(y_train * y_std + y_mean, y_train_pred)\n",
        "\n",
        "mse_test = mean_squared_error(y_test * y_std + y_mean, y_test_pred)\n",
        "rmse_test = np.sqrt(mse_test)\n",
        "mae_test = mean_absolute_error(y_test * y_std + y_mean, y_test_pred)\n",
        "\n",
        "\n",
        "print(f\"Training MSE: {mse_train}\")\n",
        "print(f\"Training RMSE: {rmse_train}\")\n",
        "print(f\"Training MAE: {mae_train}\")\n",
        "print(f\"Test MSE: {mse_test}\")\n",
        "print(f\"Test RMSE: {rmse_test}\")\n",
        "print(f\"Test MAE: {mae_test}\")\n"
      ],
      "metadata": {
        "colab": {
          "base_uri": "https://localhost:8080/"
        },
        "id": "xgKAABMqdy3f",
        "outputId": "29075e20-dba5-4779-ecf6-32c7ec7055e5"
      },
      "execution_count": 36,
      "outputs": [
        {
          "output_type": "stream",
          "name": "stdout",
          "text": [
            "Training MSE: 3282.7665394388596\n",
            "Training RMSE: 57.29543209924208\n",
            "Training MAE: 46.65307895310411\n",
            "Test MSE: 4871.507187121908\n",
            "Test RMSE: 69.796183184483\n",
            "Test MAE: 52.28910159025508\n"
          ]
        }
      ]
    }
  ]
}